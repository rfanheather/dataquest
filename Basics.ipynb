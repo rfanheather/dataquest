{
 "cells": [
  {
   "cell_type": "markdown",
   "metadata": {
    "collapsed": true
   },
   "source": [
    "## Working with US birth dataset\n",
    "The dataset contains the following columns:\n",
    "- `year` : Year (1994 to 2003).\n",
    "- `month`: Month (1 to 12).\n",
    "- `date_of_month`: Day number of the month (1 to 31).\n",
    "- `day_of_week`: Day of week (1 to 7).\n",
    "- `births`: Number of births that day."
   ]
  },
  {
   "cell_type": "code",
   "execution_count": 8,
   "metadata": {
    "collapsed": false
   },
   "outputs": [
    {
     "data": {
      "text/plain": [
       "['year,month,date_of_month,day_of_week,births',\n",
       " '1994,1,1,6,8096',\n",
       " '1994,1,2,7,7772',\n",
       " '1994,1,3,1,10142',\n",
       " '1994,1,4,2,11248',\n",
       " '1994,1,5,3,11053',\n",
       " '1994,1,6,4,11406',\n",
       " '1994,1,7,5,11251',\n",
       " '1994,1,8,6,8653',\n",
       " '1994,1,9,7,7910']"
      ]
     },
     "execution_count": 8,
     "metadata": {},
     "output_type": "execute_result"
    }
   ],
   "source": [
    "US_births = open(\"US_births_1994-2003_CDC_NCHS.csv\", 'r').read()\n",
    "US_births = US_births.split(\"\\n\")\n",
    "US_births[0:10]"
   ]
  },
  {
   "cell_type": "code",
   "execution_count": 5,
   "metadata": {
    "collapsed": false
   },
   "outputs": [
    {
     "data": {
      "text/plain": [
       "[[1994, 1, 1, 6, 8096],\n",
       " [1994, 1, 2, 7, 7772],\n",
       " [1994, 1, 3, 1, 10142],\n",
       " [1994, 1, 4, 2, 11248],\n",
       " [1994, 1, 5, 3, 11053],\n",
       " [1994, 1, 6, 4, 11406],\n",
       " [1994, 1, 7, 5, 11251],\n",
       " [1994, 1, 8, 6, 8653],\n",
       " [1994, 1, 9, 7, 7910],\n",
       " [1994, 1, 10, 1, 10498]]"
      ]
     },
     "execution_count": 5,
     "metadata": {},
     "output_type": "execute_result"
    }
   ],
   "source": [
    "def read_csv(file):\n",
    "    string = open(file).read()\n",
    "    string_list = string.split(\"\\n\")\n",
    "    string_list = string_list[1:len(string_list)]\n",
    "    final_list = []\n",
    "    for it in string_list:\n",
    "        int_fields = []\n",
    "        string_fields = it.split(\",\")\n",
    "        for num in string_fields:\n",
    "            int_fields.append(int(num))\n",
    "        final_list.append(int_fields)\n",
    "    return final_list\n",
    "\n",
    "cdc_list = read_csv(\"US_births_1994-2003_CDC_NCHS.csv\")\n",
    "cdc_list[0:10]"
   ]
  },
  {
   "cell_type": "code",
   "execution_count": 7,
   "metadata": {
    "collapsed": false,
    "scrolled": true
   },
   "outputs": [
    {
     "data": {
      "text/plain": [
       "{1: 3232517,\n",
       " 2: 3018140,\n",
       " 3: 3322069,\n",
       " 4: 3185314,\n",
       " 5: 3350907,\n",
       " 6: 3296530,\n",
       " 7: 3498783,\n",
       " 8: 3525858,\n",
       " 9: 3439698,\n",
       " 10: 3378814,\n",
       " 11: 3171647,\n",
       " 12: 3301860}"
      ]
     },
     "execution_count": 7,
     "metadata": {},
     "output_type": "execute_result"
    }
   ],
   "source": [
    "def month_births(data_list):\n",
    "    births_per_month = {}\n",
    "    for it in data_list:\n",
    "        month = it[1]\n",
    "        birth = it[4]\n",
    "        if month in births_per_month:\n",
    "            births_per_month[month] = births_per_month[month] + birth\n",
    "        else:\n",
    "            births_per_month[month] = birth\n",
    "    return births_per_month\n",
    "\n",
    "cdc_month_births = month_births(cdc_list)\n",
    "cdc_month_births"
   ]
  },
  {
   "cell_type": "code",
   "execution_count": 9,
   "metadata": {
    "collapsed": false
   },
   "outputs": [
    {
     "data": {
      "text/plain": [
       "{1: 5789166,\n",
       " 2: 6446196,\n",
       " 3: 6322855,\n",
       " 4: 6288429,\n",
       " 5: 6233657,\n",
       " 6: 4562111,\n",
       " 7: 4079723}"
      ]
     },
     "execution_count": 9,
     "metadata": {},
     "output_type": "execute_result"
    }
   ],
   "source": [
    "def dow_births(data_list):\n",
    "    day_of_week = {}\n",
    "    for it in data_list:\n",
    "        day = it[3]\n",
    "        birth = it[4]\n",
    "        if day in day_of_week:\n",
    "            day_of_week[day] = day_of_week[day] + birth\n",
    "        else:\n",
    "            day_of_week[day] = birth\n",
    "    return day_of_week\n",
    "\n",
    "cdc_day_births = dow_births(cdc_list)\n",
    "cdc_day_births"
   ]
  },
  {
   "cell_type": "code",
   "execution_count": 14,
   "metadata": {
    "collapsed": false
   },
   "outputs": [],
   "source": [
    "def calc_counts(data, column):\n",
    "    lib = {}\n",
    "    for it in data:\n",
    "        position = it[int(column)]\n",
    "        birth = it[4]\n",
    "        if position in lib:\n",
    "            lib[position] = lib[position] + birth\n",
    "        else:\n",
    "            lib[position] = birth\n",
    "    return lib\n",
    "\n",
    "cdc_year_births = calc_counts(cdc_list, 0)\n",
    "cdc_month_births = calc_counts(cdc_list, 1)\n",
    "cdc_dom_births = calc_counts(cdc_list, 2)\n",
    "cdc_dow_births = calc_counts(cdc_list, 3)"
   ]
  },
  {
   "cell_type": "code",
   "execution_count": 15,
   "metadata": {
    "collapsed": true
   },
   "outputs": [],
   "source": [
    "def min_max(lib):\n",
    "    minv = 0\n",
    "    maxv = 0\n",
    "    for it in lib:\n",
    "        if lib[it] > maxv:\n",
    "            maxv = lib[it]\n",
    "        if lib[it] < minv:\n",
    "            minv = lib[it]\n",
    "    return minv, maxv"
   ]
  },
  {
   "cell_type": "code",
   "execution_count": 78,
   "metadata": {
    "collapsed": false
   },
   "outputs": [],
   "source": [
    "def trend(data, column, val):\n",
    "    lib = {}\n",
    "    \n",
    "    for row in data:\n",
    "        year = row[0]\n",
    "        test = row[int(column)]\n",
    "        birth = row[4]\n",
    "        if test == int(val):\n",
    "            if year in lib:\n",
    "                lib[year] = lib[year] + birth\n",
    "            else:\n",
    "                lib[year] = birth\n",
    "    \n",
    "    val_births = 0\n",
    "    for key in lib:\n",
    "        val = lib[key]\n",
    "        if val_births == 0:\n",
    "            print(\"Growth of birth in \" + str(key) + \" is not available.\")\n",
    "        else:\n",
    "            if val > val_births:\n",
    "                print(\"Growth of birth in \" + str(key) + \" is increasing\")\n",
    "            elif val < val_births: \n",
    "                print(\"Growth of birth in \" + str(key) + \" is decreasing\")\n",
    "            elif val == val_births:\n",
    "                print(\"Growth of birth in \" + str(key) + \" is the same\")\n",
    "        val_births = val\n",
    "        \n",
    "    return lib"
   ]
  },
  {
   "cell_type": "markdown",
   "metadata": {},
   "source": [
    "The number of births on Saturday change each year between 1994 and 2003."
   ]
  },
  {
   "cell_type": "code",
   "execution_count": 80,
   "metadata": {
    "collapsed": false,
    "scrolled": true
   },
   "outputs": [
    {
     "name": "stdout",
     "output_type": "stream",
     "text": [
      "Growth of birth in 2000 is not available.\n",
      "Growth of birth in 2001 is decreasing\n",
      "Growth of birth in 2002 is decreasing\n",
      "Growth of birth in 2003 is increasing\n",
      "Growth of birth in 1994 is increasing\n",
      "Growth of birth in 1995 is decreasing\n",
      "Growth of birth in 1996 is decreasing\n",
      "Growth of birth in 1997 is decreasing\n",
      "Growth of birth in 1998 is increasing\n",
      "Growth of birth in 1999 is decreasing\n"
     ]
    },
    {
     "data": {
      "text/plain": [
       "{1994: 474732,\n",
       " 1995: 459580,\n",
       " 1996: 456261,\n",
       " 1997: 450840,\n",
       " 1998: 453776,\n",
       " 1999: 449985,\n",
       " 2000: 469794,\n",
       " 2001: 453928,\n",
       " 2002: 445770,\n",
       " 2003: 447445}"
      ]
     },
     "execution_count": 80,
     "metadata": {},
     "output_type": "execute_result"
    }
   ],
   "source": [
    "#the number of births on Saturday change each year between 1994 and 2003\n",
    "a = trend(cdc_list, 3, 6)\n",
    "a"
   ]
  }
 ],
 "metadata": {
  "anaconda-cloud": {},
  "celltoolbar": "Raw Cell Format",
  "kernelspec": {
   "display_name": "Python 3",
   "language": "python",
   "name": "python3"
  },
  "language_info": {
   "codemirror_mode": {
    "name": "ipython",
    "version": 3
   },
   "file_extension": ".py",
   "mimetype": "text/x-python",
   "name": "python",
   "nbconvert_exporter": "python",
   "pygments_lexer": "ipython3",
   "version": "3.4.3"
  }
 },
 "nbformat": 4,
 "nbformat_minor": 1
}
